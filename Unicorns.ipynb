{
 "cells": [
  {
   "cell_type": "code",
   "execution_count": 1,
   "id": "ddbf47c9-2eb6-4c55-b3c6-afaa49aa1bfc",
   "metadata": {},
   "outputs": [],
   "source": [
    "import pandas as pd\n",
    "import matplotlib.pyplot as plt\n",
    "import seaborn as sns\n",
    "import numpy as np\n",
    "from scipy.stats import norm\n",
    "from sklearn.preprocessing import StandardScaler\n",
    "from scipy import stats\n",
    "import warnings\n",
    "\n",
    "%matplotlib inline"
   ]
  },
  {
   "cell_type": "code",
   "execution_count": 2,
   "id": "52d63a2a-2aa0-4d66-897a-b227a350c843",
   "metadata": {},
   "outputs": [],
   "source": [
    "unicornios=pd.read_csv(\"unicornios.csv\")"
   ]
  },
  {
   "cell_type": "code",
   "execution_count": 3,
   "id": "81a66e4c-3d71-4fb4-a5c4-1f121d0faf06",
   "metadata": {},
   "outputs": [
    {
     "data": {
      "text/html": [
       "<div>\n",
       "<style scoped>\n",
       "    .dataframe tbody tr th:only-of-type {\n",
       "        vertical-align: middle;\n",
       "    }\n",
       "\n",
       "    .dataframe tbody tr th {\n",
       "        vertical-align: top;\n",
       "    }\n",
       "\n",
       "    .dataframe thead th {\n",
       "        text-align: right;\n",
       "    }\n",
       "</style>\n",
       "<table border=\"1\" class=\"dataframe\">\n",
       "  <thead>\n",
       "    <tr style=\"text-align: right;\">\n",
       "      <th></th>\n",
       "      <th>Company</th>\n",
       "      <th>Valuation</th>\n",
       "      <th>Industry</th>\n",
       "      <th>City</th>\n",
       "      <th>Country</th>\n",
       "      <th>Continent</th>\n",
       "      <th>Year Founded</th>\n",
       "      <th>Funding</th>\n",
       "      <th>Select Investors</th>\n",
       "      <th>Date Joined</th>\n",
       "    </tr>\n",
       "  </thead>\n",
       "  <tbody>\n",
       "    <tr>\n",
       "      <th>0</th>\n",
       "      <td>Bytedance</td>\n",
       "      <td>$180B</td>\n",
       "      <td>Artificial intelligence</td>\n",
       "      <td>Beijing</td>\n",
       "      <td>China</td>\n",
       "      <td>Asia</td>\n",
       "      <td>2012</td>\n",
       "      <td>$8B</td>\n",
       "      <td>Sequoia Capital China, SIG Asia Investments, S...</td>\n",
       "      <td>2017</td>\n",
       "    </tr>\n",
       "    <tr>\n",
       "      <th>1</th>\n",
       "      <td>SpaceX</td>\n",
       "      <td>$100B</td>\n",
       "      <td>Other</td>\n",
       "      <td>Hawthorne</td>\n",
       "      <td>United States</td>\n",
       "      <td>North America</td>\n",
       "      <td>2002</td>\n",
       "      <td>$7B</td>\n",
       "      <td>Founders Fund, Draper Fisher Jurvetson, Rothen...</td>\n",
       "      <td>2012</td>\n",
       "    </tr>\n",
       "    <tr>\n",
       "      <th>2</th>\n",
       "      <td>SHEIN</td>\n",
       "      <td>$100B</td>\n",
       "      <td>E-commerce &amp; direct-to-consumer</td>\n",
       "      <td>Shenzhen</td>\n",
       "      <td>China</td>\n",
       "      <td>Asia</td>\n",
       "      <td>2008</td>\n",
       "      <td>$2B</td>\n",
       "      <td>Tiger Global Management, Sequoia Capital China...</td>\n",
       "      <td>2018</td>\n",
       "    </tr>\n",
       "    <tr>\n",
       "      <th>3</th>\n",
       "      <td>Stripe</td>\n",
       "      <td>$95B</td>\n",
       "      <td>Fintech</td>\n",
       "      <td>San Francisco</td>\n",
       "      <td>United States</td>\n",
       "      <td>North America</td>\n",
       "      <td>2010</td>\n",
       "      <td>$2B</td>\n",
       "      <td>Khosla Ventures, LowercaseCapital, capitalG</td>\n",
       "      <td>2014</td>\n",
       "    </tr>\n",
       "    <tr>\n",
       "      <th>4</th>\n",
       "      <td>Klarna</td>\n",
       "      <td>$46B</td>\n",
       "      <td>Fintech</td>\n",
       "      <td>Stockholm</td>\n",
       "      <td>Sweden</td>\n",
       "      <td>Europe</td>\n",
       "      <td>2005</td>\n",
       "      <td>$4B</td>\n",
       "      <td>Institutional Venture Partners, Sequoia Capita...</td>\n",
       "      <td>2011</td>\n",
       "    </tr>\n",
       "    <tr>\n",
       "      <th>5</th>\n",
       "      <td>Canva</td>\n",
       "      <td>$40B</td>\n",
       "      <td>Internet software &amp; services</td>\n",
       "      <td>Surry Hills</td>\n",
       "      <td>Australia</td>\n",
       "      <td>Oceania</td>\n",
       "      <td>2012</td>\n",
       "      <td>$572M</td>\n",
       "      <td>Sequoia Capital China, Blackbird Ventures, Mat...</td>\n",
       "      <td>2018</td>\n",
       "    </tr>\n",
       "    <tr>\n",
       "      <th>6</th>\n",
       "      <td>Checkout.com</td>\n",
       "      <td>$40B</td>\n",
       "      <td>Fintech</td>\n",
       "      <td>London</td>\n",
       "      <td>United Kingdom</td>\n",
       "      <td>Europe</td>\n",
       "      <td>2012</td>\n",
       "      <td>$2B</td>\n",
       "      <td>Tiger Global Management, Insight Partners, DST...</td>\n",
       "      <td>2019</td>\n",
       "    </tr>\n",
       "    <tr>\n",
       "      <th>7</th>\n",
       "      <td>Instacart</td>\n",
       "      <td>$39B</td>\n",
       "      <td>Supply chain, logistics, &amp; delivery</td>\n",
       "      <td>San Francisco</td>\n",
       "      <td>United States</td>\n",
       "      <td>North America</td>\n",
       "      <td>2012</td>\n",
       "      <td>$3B</td>\n",
       "      <td>Khosla Ventures, Kleiner Perkins Caufield &amp; By...</td>\n",
       "      <td>2014</td>\n",
       "    </tr>\n",
       "    <tr>\n",
       "      <th>8</th>\n",
       "      <td>JUUL Labs</td>\n",
       "      <td>$38B</td>\n",
       "      <td>Consumer &amp; retail</td>\n",
       "      <td>San Francisco</td>\n",
       "      <td>United States</td>\n",
       "      <td>North America</td>\n",
       "      <td>2015</td>\n",
       "      <td>$14B</td>\n",
       "      <td>Tiger Global Management</td>\n",
       "      <td>2017</td>\n",
       "    </tr>\n",
       "    <tr>\n",
       "      <th>9</th>\n",
       "      <td>Databricks</td>\n",
       "      <td>$38B</td>\n",
       "      <td>Data management &amp; analytics</td>\n",
       "      <td>San Francisco</td>\n",
       "      <td>United States</td>\n",
       "      <td>North America</td>\n",
       "      <td>2013</td>\n",
       "      <td>$3B</td>\n",
       "      <td>Andreessen Horowitz, New Enterprise Associates...</td>\n",
       "      <td>2019</td>\n",
       "    </tr>\n",
       "  </tbody>\n",
       "</table>\n",
       "</div>"
      ],
      "text/plain": [
       "        Company Valuation                             Industry           City  \\\n",
       "0     Bytedance     $180B              Artificial intelligence        Beijing   \n",
       "1        SpaceX     $100B                                Other      Hawthorne   \n",
       "2         SHEIN     $100B      E-commerce & direct-to-consumer       Shenzhen   \n",
       "3        Stripe      $95B                              Fintech  San Francisco   \n",
       "4        Klarna      $46B                              Fintech      Stockholm   \n",
       "5         Canva      $40B         Internet software & services    Surry Hills   \n",
       "6  Checkout.com      $40B                              Fintech         London   \n",
       "7     Instacart      $39B  Supply chain, logistics, & delivery  San Francisco   \n",
       "8     JUUL Labs      $38B                    Consumer & retail  San Francisco   \n",
       "9    Databricks      $38B          Data management & analytics  San Francisco   \n",
       "\n",
       "          Country      Continent  Year Founded Funding  \\\n",
       "0           China           Asia          2012     $8B   \n",
       "1   United States  North America          2002     $7B   \n",
       "2           China           Asia          2008     $2B   \n",
       "3   United States  North America          2010     $2B   \n",
       "4          Sweden         Europe          2005     $4B   \n",
       "5       Australia        Oceania          2012   $572M   \n",
       "6  United Kingdom         Europe          2012     $2B   \n",
       "7   United States  North America          2012     $3B   \n",
       "8   United States  North America          2015    $14B   \n",
       "9   United States  North America          2013     $3B   \n",
       "\n",
       "                                    Select Investors  Date Joined  \n",
       "0  Sequoia Capital China, SIG Asia Investments, S...         2017  \n",
       "1  Founders Fund, Draper Fisher Jurvetson, Rothen...         2012  \n",
       "2  Tiger Global Management, Sequoia Capital China...         2018  \n",
       "3        Khosla Ventures, LowercaseCapital, capitalG         2014  \n",
       "4  Institutional Venture Partners, Sequoia Capita...         2011  \n",
       "5  Sequoia Capital China, Blackbird Ventures, Mat...         2018  \n",
       "6  Tiger Global Management, Insight Partners, DST...         2019  \n",
       "7  Khosla Ventures, Kleiner Perkins Caufield & By...         2014  \n",
       "8                            Tiger Global Management         2017  \n",
       "9  Andreessen Horowitz, New Enterprise Associates...         2019  "
      ]
     },
     "execution_count": 3,
     "metadata": {},
     "output_type": "execute_result"
    }
   ],
   "source": [
    "unicornios.head(10)"
   ]
  },
  {
   "cell_type": "code",
   "execution_count": 4,
   "id": "98ec5ca2-d098-4a1d-a16d-1377916284a7",
   "metadata": {},
   "outputs": [
    {
     "data": {
      "text/plain": [
       "(1000, 10)"
      ]
     },
     "execution_count": 4,
     "metadata": {},
     "output_type": "execute_result"
    }
   ],
   "source": [
    "unicornios.shape"
   ]
  },
  {
   "cell_type": "code",
   "execution_count": 5,
   "id": "ffd817bd-b78c-401b-926d-af312d2506e4",
   "metadata": {},
   "outputs": [
    {
     "data": {
      "text/html": [
       "<div>\n",
       "<style scoped>\n",
       "    .dataframe tbody tr th:only-of-type {\n",
       "        vertical-align: middle;\n",
       "    }\n",
       "\n",
       "    .dataframe tbody tr th {\n",
       "        vertical-align: top;\n",
       "    }\n",
       "\n",
       "    .dataframe thead th {\n",
       "        text-align: right;\n",
       "    }\n",
       "</style>\n",
       "<table border=\"1\" class=\"dataframe\">\n",
       "  <thead>\n",
       "    <tr style=\"text-align: right;\">\n",
       "      <th></th>\n",
       "      <th>Year Founded</th>\n",
       "      <th>Date Joined</th>\n",
       "    </tr>\n",
       "  </thead>\n",
       "  <tbody>\n",
       "    <tr>\n",
       "      <th>count</th>\n",
       "      <td>1000.000000</td>\n",
       "      <td>1000.00000</td>\n",
       "    </tr>\n",
       "    <tr>\n",
       "      <th>mean</th>\n",
       "      <td>2012.914000</td>\n",
       "      <td>2019.87600</td>\n",
       "    </tr>\n",
       "    <tr>\n",
       "      <th>std</th>\n",
       "      <td>5.727601</td>\n",
       "      <td>2.00715</td>\n",
       "    </tr>\n",
       "    <tr>\n",
       "      <th>min</th>\n",
       "      <td>1919.000000</td>\n",
       "      <td>2007.00000</td>\n",
       "    </tr>\n",
       "    <tr>\n",
       "      <th>25%</th>\n",
       "      <td>2011.000000</td>\n",
       "      <td>2019.00000</td>\n",
       "    </tr>\n",
       "    <tr>\n",
       "      <th>50%</th>\n",
       "      <td>2014.000000</td>\n",
       "      <td>2021.00000</td>\n",
       "    </tr>\n",
       "    <tr>\n",
       "      <th>75%</th>\n",
       "      <td>2016.000000</td>\n",
       "      <td>2021.00000</td>\n",
       "    </tr>\n",
       "    <tr>\n",
       "      <th>max</th>\n",
       "      <td>2021.000000</td>\n",
       "      <td>2022.00000</td>\n",
       "    </tr>\n",
       "  </tbody>\n",
       "</table>\n",
       "</div>"
      ],
      "text/plain": [
       "       Year Founded  Date Joined\n",
       "count   1000.000000   1000.00000\n",
       "mean    2012.914000   2019.87600\n",
       "std        5.727601      2.00715\n",
       "min     1919.000000   2007.00000\n",
       "25%     2011.000000   2019.00000\n",
       "50%     2014.000000   2021.00000\n",
       "75%     2016.000000   2021.00000\n",
       "max     2021.000000   2022.00000"
      ]
     },
     "execution_count": 5,
     "metadata": {},
     "output_type": "execute_result"
    }
   ],
   "source": [
    "unicornios.describe()"
   ]
  },
  {
   "cell_type": "code",
   "execution_count": 6,
   "id": "389e468b-f888-403f-b210-9c4396254f67",
   "metadata": {},
   "outputs": [
    {
     "name": "stdout",
     "output_type": "stream",
     "text": [
      "<class 'pandas.core.frame.DataFrame'>\n",
      "RangeIndex: 1000 entries, 0 to 999\n",
      "Data columns (total 10 columns):\n",
      " #   Column            Non-Null Count  Dtype \n",
      "---  ------            --------------  ----- \n",
      " 0   Company           1000 non-null   object\n",
      " 1   Valuation         1000 non-null   object\n",
      " 2   Industry          1000 non-null   object\n",
      " 3   City              985 non-null    object\n",
      " 4   Country           1000 non-null   object\n",
      " 5   Continent         1000 non-null   object\n",
      " 6   Year Founded      1000 non-null   int64 \n",
      " 7   Funding           1000 non-null   object\n",
      " 8   Select Investors  999 non-null    object\n",
      " 9   Date Joined       1000 non-null   int64 \n",
      "dtypes: int64(2), object(8)\n",
      "memory usage: 78.2+ KB\n"
     ]
    }
   ],
   "source": [
    "unicornios.info()"
   ]
  },
  {
   "cell_type": "markdown",
   "id": "40f5acae-9166-48cb-94e6-0de916086cba",
   "metadata": {},
   "source": [
    "AHORA LO QUE TENEMOS QUE HACER ES ELIMINAR LOS SIMBOLOS QUE HAY EN LAS COLUMNAS DE VALUATION Y FUNDING"
   ]
  },
  {
   "cell_type": "code",
   "execution_count": 7,
   "id": "043fb1fb-209d-4c3d-b2a1-19dd37861243",
   "metadata": {},
   "outputs": [
    {
     "name": "stderr",
     "output_type": "stream",
     "text": [
      "C:\\Users\\guz_g\\AppData\\Local\\Temp\\ipykernel_8444\\2202294303.py:1: FutureWarning: The default value of regex will change from True to False in a future version. In addition, single character regular expressions will *not* be treated as literal strings when regex=True.\n",
      "  unicornios[\"Valuation\"]=unicornios[\"Valuation\"].str.replace(\"$\",\"\").astype(\"object\")\n",
      "C:\\Users\\guz_g\\AppData\\Local\\Temp\\ipykernel_8444\\2202294303.py:4: FutureWarning: The default value of regex will change from True to False in a future version. In addition, single character regular expressions will *not* be treated as literal strings when regex=True.\n",
      "  unicornios[\"Funding\"]=unicornios[\"Funding\"].str.replace(\"$\",\"\").astype(\"object\")\n"
     ]
    }
   ],
   "source": [
    "unicornios[\"Valuation\"]=unicornios[\"Valuation\"].str.replace(\"$\",\"\").astype(\"object\")\n",
    "unicornios[\"Valuation\"]=unicornios[\"Valuation\"].str.replace(\"B\",\"\").astype(\"object\")\n",
    "\n",
    "unicornios[\"Funding\"]=unicornios[\"Funding\"].str.replace(\"$\",\"\").astype(\"object\")\n",
    "unicornios[\"Funding\"]=unicornios[\"Funding\"].str.replace(\"B\",\"\").astype(\"object\")\n",
    "unicornios[\"Funding\"]=unicornios[\"Funding\"].str.replace(\"M\",\"\").astype(\"object\")"
   ]
  },
  {
   "cell_type": "code",
   "execution_count": 8,
   "id": "d45eebc0-952f-4885-b8f3-dbede73899c3",
   "metadata": {},
   "outputs": [
    {
     "data": {
      "text/html": [
       "<div>\n",
       "<style scoped>\n",
       "    .dataframe tbody tr th:only-of-type {\n",
       "        vertical-align: middle;\n",
       "    }\n",
       "\n",
       "    .dataframe tbody tr th {\n",
       "        vertical-align: top;\n",
       "    }\n",
       "\n",
       "    .dataframe thead th {\n",
       "        text-align: right;\n",
       "    }\n",
       "</style>\n",
       "<table border=\"1\" class=\"dataframe\">\n",
       "  <thead>\n",
       "    <tr style=\"text-align: right;\">\n",
       "      <th></th>\n",
       "      <th>Company</th>\n",
       "      <th>Valuation</th>\n",
       "      <th>Industry</th>\n",
       "      <th>City</th>\n",
       "      <th>Country</th>\n",
       "      <th>Continent</th>\n",
       "      <th>Year Founded</th>\n",
       "      <th>Funding</th>\n",
       "      <th>Select Investors</th>\n",
       "      <th>Date Joined</th>\n",
       "    </tr>\n",
       "  </thead>\n",
       "  <tbody>\n",
       "    <tr>\n",
       "      <th>0</th>\n",
       "      <td>Bytedance</td>\n",
       "      <td>180</td>\n",
       "      <td>Artificial intelligence</td>\n",
       "      <td>Beijing</td>\n",
       "      <td>China</td>\n",
       "      <td>Asia</td>\n",
       "      <td>2012</td>\n",
       "      <td>8</td>\n",
       "      <td>Sequoia Capital China, SIG Asia Investments, S...</td>\n",
       "      <td>2017</td>\n",
       "    </tr>\n",
       "    <tr>\n",
       "      <th>1</th>\n",
       "      <td>SpaceX</td>\n",
       "      <td>100</td>\n",
       "      <td>Other</td>\n",
       "      <td>Hawthorne</td>\n",
       "      <td>United States</td>\n",
       "      <td>North America</td>\n",
       "      <td>2002</td>\n",
       "      <td>7</td>\n",
       "      <td>Founders Fund, Draper Fisher Jurvetson, Rothen...</td>\n",
       "      <td>2012</td>\n",
       "    </tr>\n",
       "    <tr>\n",
       "      <th>2</th>\n",
       "      <td>SHEIN</td>\n",
       "      <td>100</td>\n",
       "      <td>E-commerce &amp; direct-to-consumer</td>\n",
       "      <td>Shenzhen</td>\n",
       "      <td>China</td>\n",
       "      <td>Asia</td>\n",
       "      <td>2008</td>\n",
       "      <td>2</td>\n",
       "      <td>Tiger Global Management, Sequoia Capital China...</td>\n",
       "      <td>2018</td>\n",
       "    </tr>\n",
       "    <tr>\n",
       "      <th>3</th>\n",
       "      <td>Stripe</td>\n",
       "      <td>95</td>\n",
       "      <td>Fintech</td>\n",
       "      <td>San Francisco</td>\n",
       "      <td>United States</td>\n",
       "      <td>North America</td>\n",
       "      <td>2010</td>\n",
       "      <td>2</td>\n",
       "      <td>Khosla Ventures, LowercaseCapital, capitalG</td>\n",
       "      <td>2014</td>\n",
       "    </tr>\n",
       "    <tr>\n",
       "      <th>4</th>\n",
       "      <td>Klarna</td>\n",
       "      <td>46</td>\n",
       "      <td>Fintech</td>\n",
       "      <td>Stockholm</td>\n",
       "      <td>Sweden</td>\n",
       "      <td>Europe</td>\n",
       "      <td>2005</td>\n",
       "      <td>4</td>\n",
       "      <td>Institutional Venture Partners, Sequoia Capita...</td>\n",
       "      <td>2011</td>\n",
       "    </tr>\n",
       "    <tr>\n",
       "      <th>5</th>\n",
       "      <td>Canva</td>\n",
       "      <td>40</td>\n",
       "      <td>Internet software &amp; services</td>\n",
       "      <td>Surry Hills</td>\n",
       "      <td>Australia</td>\n",
       "      <td>Oceania</td>\n",
       "      <td>2012</td>\n",
       "      <td>572</td>\n",
       "      <td>Sequoia Capital China, Blackbird Ventures, Mat...</td>\n",
       "      <td>2018</td>\n",
       "    </tr>\n",
       "    <tr>\n",
       "      <th>6</th>\n",
       "      <td>Checkout.com</td>\n",
       "      <td>40</td>\n",
       "      <td>Fintech</td>\n",
       "      <td>London</td>\n",
       "      <td>United Kingdom</td>\n",
       "      <td>Europe</td>\n",
       "      <td>2012</td>\n",
       "      <td>2</td>\n",
       "      <td>Tiger Global Management, Insight Partners, DST...</td>\n",
       "      <td>2019</td>\n",
       "    </tr>\n",
       "    <tr>\n",
       "      <th>7</th>\n",
       "      <td>Instacart</td>\n",
       "      <td>39</td>\n",
       "      <td>Supply chain, logistics, &amp; delivery</td>\n",
       "      <td>San Francisco</td>\n",
       "      <td>United States</td>\n",
       "      <td>North America</td>\n",
       "      <td>2012</td>\n",
       "      <td>3</td>\n",
       "      <td>Khosla Ventures, Kleiner Perkins Caufield &amp; By...</td>\n",
       "      <td>2014</td>\n",
       "    </tr>\n",
       "    <tr>\n",
       "      <th>8</th>\n",
       "      <td>JUUL Labs</td>\n",
       "      <td>38</td>\n",
       "      <td>Consumer &amp; retail</td>\n",
       "      <td>San Francisco</td>\n",
       "      <td>United States</td>\n",
       "      <td>North America</td>\n",
       "      <td>2015</td>\n",
       "      <td>14</td>\n",
       "      <td>Tiger Global Management</td>\n",
       "      <td>2017</td>\n",
       "    </tr>\n",
       "    <tr>\n",
       "      <th>9</th>\n",
       "      <td>Databricks</td>\n",
       "      <td>38</td>\n",
       "      <td>Data management &amp; analytics</td>\n",
       "      <td>San Francisco</td>\n",
       "      <td>United States</td>\n",
       "      <td>North America</td>\n",
       "      <td>2013</td>\n",
       "      <td>3</td>\n",
       "      <td>Andreessen Horowitz, New Enterprise Associates...</td>\n",
       "      <td>2019</td>\n",
       "    </tr>\n",
       "  </tbody>\n",
       "</table>\n",
       "</div>"
      ],
      "text/plain": [
       "        Company Valuation                             Industry           City  \\\n",
       "0     Bytedance       180              Artificial intelligence        Beijing   \n",
       "1        SpaceX       100                                Other      Hawthorne   \n",
       "2         SHEIN       100      E-commerce & direct-to-consumer       Shenzhen   \n",
       "3        Stripe        95                              Fintech  San Francisco   \n",
       "4        Klarna        46                              Fintech      Stockholm   \n",
       "5         Canva        40         Internet software & services    Surry Hills   \n",
       "6  Checkout.com        40                              Fintech         London   \n",
       "7     Instacart        39  Supply chain, logistics, & delivery  San Francisco   \n",
       "8     JUUL Labs        38                    Consumer & retail  San Francisco   \n",
       "9    Databricks        38          Data management & analytics  San Francisco   \n",
       "\n",
       "          Country      Continent  Year Founded Funding  \\\n",
       "0           China           Asia          2012       8   \n",
       "1   United States  North America          2002       7   \n",
       "2           China           Asia          2008       2   \n",
       "3   United States  North America          2010       2   \n",
       "4          Sweden         Europe          2005       4   \n",
       "5       Australia        Oceania          2012     572   \n",
       "6  United Kingdom         Europe          2012       2   \n",
       "7   United States  North America          2012       3   \n",
       "8   United States  North America          2015      14   \n",
       "9   United States  North America          2013       3   \n",
       "\n",
       "                                    Select Investors  Date Joined  \n",
       "0  Sequoia Capital China, SIG Asia Investments, S...         2017  \n",
       "1  Founders Fund, Draper Fisher Jurvetson, Rothen...         2012  \n",
       "2  Tiger Global Management, Sequoia Capital China...         2018  \n",
       "3        Khosla Ventures, LowercaseCapital, capitalG         2014  \n",
       "4  Institutional Venture Partners, Sequoia Capita...         2011  \n",
       "5  Sequoia Capital China, Blackbird Ventures, Mat...         2018  \n",
       "6  Tiger Global Management, Insight Partners, DST...         2019  \n",
       "7  Khosla Ventures, Kleiner Perkins Caufield & By...         2014  \n",
       "8                            Tiger Global Management         2017  \n",
       "9  Andreessen Horowitz, New Enterprise Associates...         2019  "
      ]
     },
     "execution_count": 8,
     "metadata": {},
     "output_type": "execute_result"
    }
   ],
   "source": [
    "unicornios.head(10)"
   ]
  },
  {
   "cell_type": "code",
   "execution_count": 9,
   "id": "a2470f28-1293-4658-8209-bcd14398f983",
   "metadata": {},
   "outputs": [
    {
     "name": "stdout",
     "output_type": "stream",
     "text": [
      "<class 'pandas.core.frame.DataFrame'>\n",
      "RangeIndex: 1000 entries, 0 to 999\n",
      "Data columns (total 10 columns):\n",
      " #   Column            Non-Null Count  Dtype \n",
      "---  ------            --------------  ----- \n",
      " 0   Company           1000 non-null   object\n",
      " 1   Valuation         1000 non-null   object\n",
      " 2   Industry          1000 non-null   object\n",
      " 3   City              985 non-null    object\n",
      " 4   Country           1000 non-null   object\n",
      " 5   Continent         1000 non-null   object\n",
      " 6   Year Founded      1000 non-null   int64 \n",
      " 7   Funding           1000 non-null   object\n",
      " 8   Select Investors  999 non-null    object\n",
      " 9   Date Joined       1000 non-null   int64 \n",
      "dtypes: int64(2), object(8)\n",
      "memory usage: 78.2+ KB\n"
     ]
    }
   ],
   "source": [
    "unicornios.info()"
   ]
  },
  {
   "cell_type": "markdown",
   "id": "5b6a2f48-13bc-440b-bf6b-95d37bed5951",
   "metadata": {},
   "source": [
    "COMO PODEMOS OBSERVAR LOS VALORES DE VALUATION Y FUNDING SON DE TIPO OBJECT HAY QUE PASARLOS A TIPO \"INT64\""
   ]
  },
  {
   "cell_type": "code",
   "execution_count": 10,
   "id": "2790498f-2b8f-4a06-9db2-49a887994285",
   "metadata": {},
   "outputs": [
    {
     "name": "stdout",
     "output_type": "stream",
     "text": [
      "<class 'pandas.core.frame.DataFrame'>\n",
      "RangeIndex: 1000 entries, 0 to 999\n",
      "Data columns (total 10 columns):\n",
      " #   Column            Non-Null Count  Dtype \n",
      "---  ------            --------------  ----- \n",
      " 0   Company           1000 non-null   object\n",
      " 1   Valuation         1000 non-null   int64 \n",
      " 2   Industry          1000 non-null   object\n",
      " 3   City              985 non-null    object\n",
      " 4   Country           1000 non-null   object\n",
      " 5   Continent         1000 non-null   object\n",
      " 6   Year Founded      1000 non-null   int64 \n",
      " 7   Funding           1000 non-null   string\n",
      " 8   Select Investors  999 non-null    object\n",
      " 9   Date Joined       1000 non-null   int64 \n",
      "dtypes: int64(3), object(6), string(1)\n",
      "memory usage: 78.2+ KB\n"
     ]
    }
   ],
   "source": [
    "unicornios[\"Valuation\"] = unicornios[\"Valuation\"].astype(object).astype(\"int64\")\n",
    "unicornios[\"Funding\"]= unicornios[\"Funding\"].astype(object).astype(\"string\")\n",
    "unicornios.info()"
   ]
  },
  {
   "cell_type": "markdown",
   "id": "4b65a9aa-fb62-4653-b36f-d7f1458ebd8f",
   "metadata": {},
   "source": [
    "AL REVISAR LA TABLA DE EDATOS HAY VARIAS FILAS QUE NO TIENEN DATOS NOS DISPUSIMOS A FILTRARLOS Y UNA VEZ QUE SABEMOS LOS INDICES A LOS QUE PERTENECEN LOS ELIMINAMOS DEL DF"
   ]
  },
  {
   "cell_type": "code",
   "execution_count": 16,
   "id": "c2647679-937b-4f47-8907-8a0913776f4a",
   "metadata": {},
   "outputs": [
    {
     "data": {
      "text/html": [
       "<div>\n",
       "<style scoped>\n",
       "    .dataframe tbody tr th:only-of-type {\n",
       "        vertical-align: middle;\n",
       "    }\n",
       "\n",
       "    .dataframe tbody tr th {\n",
       "        vertical-align: top;\n",
       "    }\n",
       "\n",
       "    .dataframe thead th {\n",
       "        text-align: right;\n",
       "    }\n",
       "</style>\n",
       "<table border=\"1\" class=\"dataframe\">\n",
       "  <thead>\n",
       "    <tr style=\"text-align: right;\">\n",
       "      <th></th>\n",
       "      <th>Company</th>\n",
       "      <th>Valuation</th>\n",
       "      <th>Industry</th>\n",
       "      <th>City</th>\n",
       "      <th>Country</th>\n",
       "      <th>Continent</th>\n",
       "      <th>Year Founded</th>\n",
       "      <th>Funding</th>\n",
       "      <th>Select Investors</th>\n",
       "      <th>Date Joined</th>\n",
       "    </tr>\n",
       "  </thead>\n",
       "  <tbody>\n",
       "  </tbody>\n",
       "</table>\n",
       "</div>"
      ],
      "text/plain": [
       "Empty DataFrame\n",
       "Columns: [Company, Valuation, Industry, City, Country, Continent, Year Founded, Funding, Select Investors, Date Joined]\n",
       "Index: []"
      ]
     },
     "execution_count": 16,
     "metadata": {},
     "output_type": "execute_result"
    }
   ],
   "source": [
    "unicornios[unicornios[\"Funding\"]==\"Unknown\"]\n",
    "unicornios.drop([215,424,567,639,651,717,733,866,890,945,947],axis=0, inplace=True)\n",
    "#unicornios.info()\n"
   ]
  },
  {
   "cell_type": "markdown",
   "id": "1517e593-a315-42f0-bd11-8b709642903a",
   "metadata": {},
   "source": [
    "AQUI NOS DISPONEMOS A CAMBIAR EL FORMATO DE LA COLUMNA FUNDING PARA EMPEZAR EL ANALISIS EXPLORATORIO"
   ]
  },
  {
   "cell_type": "code",
   "execution_count": 17,
   "id": "134ca9e1-ac7b-4315-bc55-04b28af05fe8",
   "metadata": {},
   "outputs": [],
   "source": [
    "unicornios[\"Funding\"]= unicornios[\"Funding\"].astype(object).astype(\"int64\")"
   ]
  },
  {
   "cell_type": "code",
   "execution_count": 22,
   "id": "dce05726-65f0-4315-9f98-b452c3db46ea",
   "metadata": {},
   "outputs": [
    {
     "data": {
      "text/plain": [
       "0.5582663786986625"
      ]
     },
     "execution_count": 22,
     "metadata": {},
     "output_type": "execute_result"
    },
    {
     "data": {
      "image/png": "[encoded data removed]",
      "text/plain": [
       "<Figure size 432x288 with 1 Axes>"
      ]
     },
     "metadata": {
      "needs_background": "light"
     },
     "output_type": "display_data"
    }
   ],
   "source": [
    "sns.histplot(unicornios[\"Funding\"])\n",
    "unicornios[\"Funding\"].skew()"
   ]
  },
  {
   "cell_type": "code",
   "execution_count": 23,
   "id": "e0a144fa-1c8f-46ab-bde8-850b527f6597",
   "metadata": {},
   "outputs": [
    {
     "data": {
      "text/plain": [
       "-0.31288557414464924"
      ]
     },
     "execution_count": 23,
     "metadata": {},
     "output_type": "execute_result"
    }
   ],
   "source": [
    "unicornios[\"Funding\"].kurt()"
   ]
  },
  {
   "cell_type": "code",
   "execution_count": null,
   "id": "07ca6c23-71ce-4f1a-a155-a5f15b11ef2c",
   "metadata": {},
   "outputs": [],
   "source": [
    "ANALIZAREMOS LOS PAISES QUE TIENEN STARTUPS"
   ]
  },
  {
   "cell_type": "code",
   "execution_count": 1,
   "id": "5783957b-22ac-433f-ab2f-24e81ac22c75",
   "metadata": {},
   "outputs": [
    {
     "ename": "NameError",
     "evalue": "name 'pd' is not defined",
     "output_type": "error",
     "traceback": [
      "\u001b[1;31m---------------------------------------------------------------------------\u001b[0m",
      "\u001b[1;31mNameError\u001b[0m                                 Traceback (most recent call last)",
      "Input \u001b[1;32mIn [1]\u001b[0m, in \u001b[0;36m<cell line: 1>\u001b[1;34m()\u001b[0m\n\u001b[1;32m----> 1\u001b[0m total_pais\u001b[38;5;241m=\u001b[39m\u001b[43mpd\u001b[49m\u001b[38;5;241m.\u001b[39mconcat([unicornios[\u001b[38;5;124m'\u001b[39m\u001b[38;5;124mCountry\u001b[39m\u001b[38;5;124m'\u001b[39m],unicornios[\u001b[38;5;124m'\u001b[39m\u001b[38;5;124mDate Joined\u001b[39m\u001b[38;5;124m'\u001b[39m]],axis\u001b[38;5;241m=\u001b[39m\u001b[38;5;241m1\u001b[39m)\n\u001b[0;32m      4\u001b[0m total_pais\u001b[38;5;241m.\u001b[39mdescribe()\n",
      "\u001b[1;31mNameError\u001b[0m: name 'pd' is not defined"
     ]
    }
   ],
   "source": [
    "total_pais=pd.concat([unicornios['Country'],unicornios['Date Joined']],axis=1)\n"
   ]
  },
  {
   "cell_type": "markdown",
   "id": "75075139-a8b7-42a4-a697-5a5375bb9057",
   "metadata": {},
   "source": [
    "***f,ax=plt.subplots(figsize=(20,8))\n",
    "ax1=sns.barplot(x=\"Year Founded\", y=\"Continent\", data=unicornios, color='#63b3c0',ax=axis[0]).set(title='Paises Con Start')\n",
    "ax1.set_xticks([2000,2005, 2010,2015, 2020, 2022])\n",
    "ax1.set_xticklabels(['1M','2M','3M','4M','5M','6M','7M','8M'])\n",
    "plt.xlabel('Revenue in Million')\n",
    "plt.title('Top 10 countries that purchase the most')***\n"
   ]
  },
  {
   "cell_type": "code",
   "execution_count": null,
   "id": "912e0fa1-e84b-42bc-bbc6-7192319405fb",
   "metadata": {},
   "outputs": [],
   "source": []
  }
 ],
 "metadata": {
  "kernelspec": {
   "display_name": "Python 3 (ipykernel)",
   "language": "python",
   "name": "python3"
  },
  "language_info": {
   "codemirror_mode": {
    "name": "ipython",
    "version": 3
   },
   "file_extension": ".py",
   "mimetype": "text/x-python",
   "name": "python",
   "nbconvert_exporter": "python",
   "pygments_lexer": "ipython3",
   "version": "3.9.12"
  }
 },
 "nbformat": 4,
 "nbformat_minor": 5
}
